{
 "cells": [
  {
   "cell_type": "markdown",
   "id": "24d35331-7715-4d6c-9b5a-e163a5cc24b3",
   "metadata": {},
   "source": [
    "# Start\n",
    "Will try to implement a basic Electrical Model, that Updates the next State, based on the rules of the Heart Propagation\n"
   ]
  },
  {
   "cell_type": "code",
   "execution_count": 1,
   "id": "d3e4c15d-9a3f-43b3-b660-83de33948166",
   "metadata": {},
   "outputs": [],
   "source": [
    "import numpy as np"
   ]
  },
  {
   "cell_type": "code",
   "execution_count": 8,
   "id": "b1869c7c-75c6-4304-8fc6-9cde30c78f40",
   "metadata": {},
   "outputs": [],
   "source": [
    "# Global Variables / Parameters\n",
    "R = 100 # Number of Rings\n",
    "n = 10 # Number of nodes per ring\n",
    "N = R*n\n",
    "\n",
    "ref_vec = np.zeros((N),dtype = int) # Refractory Time period \n",
    "adj_matrix = np.zeros((N,N),dtype = int) # Network Structure of the Electrical Network\n",
    "Lap_matrix = np.zeros((N,N),dtype = int) # The Laplacian of the Network\n",
    "\n",
    "ES = 0 # MAx degree + 1 the number encoding the information of the Excited state"
   ]
  },
  {
   "cell_type": "code",
   "execution_count": 7,
   "id": "37f58bec-6737-4e7f-865d-09acc203f676",
   "metadata": {},
   "outputs": [],
   "source": [
    "# Code to Create the ref_vec\n",
    "ref_vec[:] = 1 \n",
    "#ref_vec"
   ]
  },
  {
   "cell_type": "code",
   "execution_count": 15,
   "id": "49eed8a1-9508-4430-bcfa-5bd023870836",
   "metadata": {},
   "outputs": [],
   "source": [
    "# Code to build the Adjacency Matrix\n",
    "for i in range(N):\n",
    "    rind = i%n\n",
    "    rno = (i-rind)/n\n",
    "    for j in range(N) :\n",
    "        if(i != j):\n",
    "            rind_2 = j%n\n",
    "            rno_2 = (j-rind_2)/n \n",
    "            if(rind==rind_2 and ((rno-rno_2 == 1) or (rno-rno_2 == -1))):\n",
    "                adj_matrix[i][j] = 1\n",
    "            if(rno==rno_2 and ((rind-rind_2 == 1) or (rind-rind_2 == -1))):\n",
    "                adj_matrix[i][j] = 1\n",
    "#np.dot(adj_matrix,np.ones((N),dtype=int))            "
   ]
  },
  {
   "cell_type": "code",
   "execution_count": 16,
   "id": "5bad2e46-2998-486f-ae2d-abab8966d9e8",
   "metadata": {},
   "outputs": [
    {
     "data": {
      "text/plain": [
       "6"
      ]
     },
     "execution_count": 16,
     "metadata": {},
     "output_type": "execute_result"
    }
   ],
   "source": [
    "# Max degree and Graph Laplacian Construction\n",
    "degrees = np.dot(adj_matrix,np.ones((N),dtype=int))\n",
    "m_degree = np.max(degrees)\n",
    "ES = m_degree+1\n",
    "# Graph Laplacian from the Adjacency \n",
    "    \n"
   ]
  },
  {
   "cell_type": "code",
   "execution_count": null,
   "id": "d2d9ff70-023a-4c5a-aad5-0087ca32bb7d",
   "metadata": {},
   "outputs": [],
   "source": [
    "# Variables / Dynamic Variables\n",
    "ps = np.zeros((N),dtype=int) # present state G.S = 1, R.S = 0, E.S = ES \n",
    "ns = np.zeros((N),dtype=int) # Next state\n",
    "rs = np.zeros((N),dtype=int) # Refractory state"
   ]
  }
 ],
 "metadata": {
  "kernelspec": {
   "display_name": "Python 3 (ipykernel)",
   "language": "python",
   "name": "python3"
  },
  "language_info": {
   "codemirror_mode": {
    "name": "ipython",
    "version": 3
   },
   "file_extension": ".py",
   "mimetype": "text/x-python",
   "name": "python",
   "nbconvert_exporter": "python",
   "pygments_lexer": "ipython3",
   "version": "3.11.7"
  }
 },
 "nbformat": 4,
 "nbformat_minor": 5
}
